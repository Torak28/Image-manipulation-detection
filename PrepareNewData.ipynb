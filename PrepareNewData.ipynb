{
 "cells": [
  {
   "cell_type": "code",
   "execution_count": 1,
   "metadata": {},
   "outputs": [
    {
     "name": "stdout",
     "output_type": "stream",
     "text": [
      "False\n"
     ]
    }
   ],
   "source": [
    "from PIL import Image\n",
    "import os\n",
    "\n",
    "def verify_picture(pic):\n",
    "    try:\n",
    "        im = Image.open(pic)\n",
    "        im.verify()\n",
    "        im.close()\n",
    "        return True\n",
    "    except Exception as err: \n",
    "        return False\n",
    "\n",
    "if os.name != 'nt': \n",
    "    out = verify_picture('../../MGU/Projekt/PS-Battles-master/originals/49366m.jpg')\n",
    "    print(out)\n",
    "else:\n",
    "    out = verify_picture('..\\..\\MGU\\Data\\PS-Battles-master\\originals\\49366m.jpg')\n",
    "    print(out)"
   ]
  },
  {
   "cell_type": "code",
   "execution_count": 2,
   "metadata": {},
   "outputs": [
    {
     "name": "stdout",
     "output_type": "stream",
     "text": [
      "All files: 20000\n",
      "\tORG: 10000\n",
      "\tPSS: 10000\n"
     ]
    }
   ],
   "source": [
    "import os\n",
    "from shutil import copyfile\n",
    "\n",
    "def do_it():\n",
    "    path = '../../MGU/Projekt/PS-Battles-master/' if os.name != 'nt' else '..\\..\\MGU\\Data\\PS-Battles-master'\n",
    "    os.chdir(path)\n",
    "\n",
    "    org = os.listdir('originals')\n",
    "    for i in org:\n",
    "        if verify_picture('originals/' + i):\n",
    "            name = os.path.splitext(i)[0]\n",
    "            for j in os.listdir('photoshops/' + name)[:1]:\n",
    "                if verify_picture('photoshops/' + name + '/' + j):\n",
    "                    if len(os.listdir('test/org/')) + len(os.listdir('test/ps/')) == 20000:\n",
    "                        return\n",
    "                    copyfile(os.path.abspath('photoshops/' + name + '/' + j), os.path.abspath('test/org/' + i))\n",
    "                    copyfile(os.path.abspath('originals/' + i), os.path.abspath('test/ps/' + i))\n",
    "                    \n",
    "do_it()\n",
    "\n",
    "all_files = len(os.listdir('test/org/')) + len(os.listdir('test/ps/'))\n",
    "org_files = len(os.listdir('test/org/'))\n",
    "ps_files = len(os.listdir('test/ps/'))\n",
    "                \n",
    "print(f'All files: {all_files}\\n\\tORG: {org_files}\\n\\tPSS: {ps_files}')"
   ]
  },
  {
   "cell_type": "code",
   "execution_count": 3,
   "metadata": {},
   "outputs": [
    {
     "name": "stdout",
     "output_type": "stream",
     "text": [
      "Test data: 20000, Valid data: 5000\n"
     ]
    }
   ],
   "source": [
    "import random\n",
    "\n",
    "amount_of = org_files // 4\n",
    "\n",
    "org = os.listdir('test/org/')\n",
    "ps = os.listdir('test/ps/')\n",
    "\n",
    "for _ in random.sample(org, k=amount_of):\n",
    "    copyfile(os.path.abspath('test/org/' + _), 'valid/org/' + _)\n",
    "\n",
    "for _ in random.sample(ps, k=amount_of):\n",
    "    copyfile(os.path.abspath('test/ps/' + _), 'valid/ps/' + _)\n",
    "\n",
    "test = len(os.listdir('test/org/')) + len(os.listdir('test/ps/'))\n",
    "valid = len(os.listdir('valid/org/')) + len(os.listdir('valid/ps/'))\n",
    "\n",
    "print(f'Test data: {test}, Valid data: {valid}')"
   ]
  },
  {
   "cell_type": "code",
   "execution_count": null,
   "metadata": {},
   "outputs": [],
   "source": []
  }
 ],
 "metadata": {
  "kernelspec": {
   "display_name": "Python 3",
   "language": "python",
   "name": "python3"
  },
  "language_info": {
   "codemirror_mode": {
    "name": "ipython",
    "version": 3
   },
   "file_extension": ".py",
   "mimetype": "text/x-python",
   "name": "python",
   "nbconvert_exporter": "python",
   "pygments_lexer": "ipython3",
   "version": "3.7.4"
  }
 },
 "nbformat": 4,
 "nbformat_minor": 2
}
