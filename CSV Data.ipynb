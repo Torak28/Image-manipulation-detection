{
 "cells": [
  {
   "cell_type": "markdown",
   "metadata": {},
   "source": [
    "# Create CSV with data"
   ]
  },
  {
   "cell_type": "code",
   "execution_count": 1,
   "metadata": {},
   "outputs": [
    {
     "data": {
      "text/plain": [
       "False"
      ]
     },
     "execution_count": 1,
     "metadata": {},
     "output_type": "execute_result"
    }
   ],
   "source": [
    "from PIL import Image\n",
    "\n",
    "def verify_picture(pic):\n",
    "    try:\n",
    "        im = Image.open(pic)\n",
    "        im.verify()\n",
    "        im.close()\n",
    "        return True\n",
    "    except Exception as err: \n",
    "        return False\n",
    "        \n",
    "verify_picture('../../MGU/Projekt/PS-Battles-master/originals/49366m.jpg')"
   ]
  },
  {
   "cell_type": "code",
   "execution_count": 2,
   "metadata": {},
   "outputs": [
    {
     "name": "stdout",
     "output_type": "stream",
     "text": [
      "All files: 99074\n",
      "\tORG: 11079\n",
      "\tPSS: 87995\n",
      "[['path', 'value'], ['/home/torak28/Desktop/Studia/MGU/Projekt/PS-Battles-master/originals/145kqr.jpg', 0], ['/home/torak28/Desktop/Studia/MGU/Projekt/PS-Battles-master/photoshops/145kqr/c7a75mm_0.jpg', 1]]\n"
     ]
    }
   ],
   "source": [
    "import os\n",
    "\n",
    "currentPath = os.getcwd()\n",
    "path = '../../MGU/Projekt/PS-Battles-master/'\n",
    "os.chdir(path)\n",
    "\n",
    "orgg = 0\n",
    "pss = 0\n",
    "\n",
    "data = [['path', 'value']]\n",
    "\n",
    "org = os.listdir('originals')\n",
    "for i in org:\n",
    "    if verify_picture('originals/' + i):\n",
    "        data.append([os.path.abspath('originals/' + i), 0])\n",
    "        orgg += 1\n",
    "        name = os.path.splitext(i)[0]\n",
    "        for j in os.listdir('photoshops/' + name):\n",
    "            if verify_picture('photoshops/' + name + '/' + j):\n",
    "                data.append([os.path.abspath('photoshops/' + name + '/' + j), 1])\n",
    "                pss += 1\n",
    "                \n",
    "                \n",
    "print(f'All files: {orgg + pss}\\n\\tORG: {orgg}\\n\\tPSS: {pss}')\n",
    "print(data[:3])"
   ]
  },
  {
   "cell_type": "code",
   "execution_count": null,
   "metadata": {},
   "outputs": [],
   "source": [
    "import csv\n",
    "\n",
    "os.chdir(currentPath)\n",
    "\n",
    "with open('data.csv', 'w') as csvFile:\n",
    "    writer = csv.writer(csvFile)\n",
    "    writer.writerows(data)\n",
    "\n",
    "csvFile.close()"
   ]
  },
  {
   "cell_type": "code",
   "execution_count": null,
   "metadata": {},
   "outputs": [],
   "source": [
    "import pandas as pd\n",
    "import numpy as np\n",
    "\n",
    "labels = pd.read_csv('data.csv')\n",
    "labels.head()\n",
    "\n"
   ]
  },
  {
   "cell_type": "code",
   "execution_count": null,
   "metadata": {},
   "outputs": [],
   "source": [
    "import matplotlib.pyplot as plt\n",
    "from IPython.display import display\n",
    "%matplotlib inline\n",
    "\n",
    "def get_image(path):\n",
    "    img = Image.open(path)\n",
    "    return np.array(img)\n",
    "\n",
    "\n",
    "org_row = labels[labels.value == 0].path[0]\n",
    "plt.imshow(get_image(org_row))\n",
    "plt.show()\n",
    "\n",
    "ps_row = labels[labels.value == 1].path[1]\n",
    "plt.imshow(get_image(ps_row))\n",
    "plt.show()"
   ]
  },
  {
   "cell_type": "code",
   "execution_count": null,
   "metadata": {},
   "outputs": [],
   "source": []
  }
 ],
 "metadata": {
  "kernelspec": {
   "display_name": "Python 3",
   "language": "python",
   "name": "python3"
  },
  "language_info": {
   "codemirror_mode": {
    "name": "ipython",
    "version": 3
   },
   "file_extension": ".py",
   "mimetype": "text/x-python",
   "name": "python",
   "nbconvert_exporter": "python",
   "pygments_lexer": "ipython3",
   "version": "3.7.4"
  }
 },
 "nbformat": 4,
 "nbformat_minor": 2
}
