{
 "cells": [
  {
   "cell_type": "markdown",
   "metadata": {},
   "source": [
    "# Cel\n",
    "\n",
    " * Poprzedni eksperyment - Nasze dane balanced data\n",
    " * Inbalanced data\n",
    " * UnderSampling\n",
    " * OverSampling\n",
    "    "
   ]
  },
  {
   "cell_type": "markdown",
   "metadata": {},
   "source": [
    "# Imports + DataSource"
   ]
  },
  {
   "cell_type": "code",
   "execution_count": 1,
   "metadata": {},
   "outputs": [],
   "source": [
    "import os\n",
    "\n",
    "dataSource = '/home/torak28/Desktop/Studia/MGU/Projekt/dataSource'\n",
    "    "
   ]
  },
  {
   "cell_type": "code",
   "execution_count": 2,
   "metadata": {},
   "outputs": [
    {
     "name": "stdout",
     "output_type": "stream",
     "text": [
      "False\n"
     ]
    }
   ],
   "source": [
    "from PIL import Image\n",
    "\n",
    "def verify_picture(pic):\n",
    "    try:\n",
    "        im = Image.open(pic)\n",
    "        im.verify()\n",
    "        im.close()\n",
    "        im = Image.open(pic)\n",
    "        im.resize((224,224))\n",
    "        im.convert('RGB')\n",
    "        if sum(im.convert(\"L\").getextrema()) in (0, 2):\n",
    "            return False\n",
    "        if os.stat(pic).st_size == 503:\n",
    "            return False\n",
    "        return True\n",
    "    except Exception as err: \n",
    "        return False\n",
    "\n",
    "if os.name != 'nt': \n",
    "    out = verify_picture('../../MGU/Projekt/PS-Battles-master/originals/49366m.jpg')\n",
    "    print(out)\n",
    "else:\n",
    "    out = verify_picture('..\\..\\MGU\\Data\\PS-Battles-master\\originals\\49366m.jpg')\n",
    "    print(out)"
   ]
  },
  {
   "cell_type": "markdown",
   "metadata": {},
   "source": [
    "# Clear"
   ]
  },
  {
   "cell_type": "code",
   "execution_count": 3,
   "metadata": {},
   "outputs": [],
   "source": [
    "from shutil import rmtree\n",
    "\n",
    "def clear():\n",
    "    clearPath = '/home/torak28/Desktop/Studia/MGU/Projekt/photos/'\n",
    "\n",
    "    tmp = ['balanced', 'inbl', 'Oversampling', 'Undersampling']\n",
    "    tmp2 = ['test', 'valid']\n",
    "    tmp3 = ['org', 'ps']\n",
    "\n",
    "    slash = '/' if os.name != 'nt' else '\\\\'\n",
    "\n",
    "    for i in tmp:\n",
    "        for j in tmp2:\n",
    "            for k in tmp3:\n",
    "                rm = clearPath + i + slash + j + slash + k + slash\n",
    "                rmtree(rm)\n",
    "                os.mkdir(rm)"
   ]
  },
  {
   "cell_type": "markdown",
   "metadata": {},
   "source": [
    "# Stats"
   ]
  },
  {
   "cell_type": "code",
   "execution_count": 4,
   "metadata": {},
   "outputs": [],
   "source": [
    "import matplotlib.pyplot as plt\n",
    "\n",
    "def stats():\n",
    "    tmp = ['balanced', 'inbl', 'Oversampling', 'Undersampling']\n",
    "    statPath = '/home/torak28/Desktop/Studia/MGU/Projekt/photos/'\n",
    "\n",
    "    for i in tmp:\n",
    "\n",
    "        plt.figure(1, figsize = (15,8)) \n",
    "        plt.suptitle(i, fontsize=16)\n",
    "        \n",
    "        # Before\n",
    "        plt.subplot(231)  \n",
    "\n",
    "        org_files = len(os.listdir(dataSource + slash + 'originals' + slash))\n",
    "        ps_files = 0\n",
    "        for j in os.listdir(dataSource + slash + 'photoshops' + slash):\n",
    "            ps_files += len(os.listdir(dataSource + slash + 'photoshops' + slash + j))  \n",
    "        plt.bar(['org', 'ps'], [org_files, ps_files], align='center', alpha=0.5)  \n",
    "\n",
    "        plt.title('Org Data')  \n",
    "        plt.ylabel('Number of Files') \n",
    "    \n",
    "        # Testing\n",
    "        plt.subplot(232)  \n",
    "\n",
    "        org_files = len(os.listdir(statPath + i + slash + 'test' + slash + 'org' + slash))\n",
    "        ps_files = len(os.listdir(statPath + i + slash  + 'test' + slash + 'ps' + slash))  \n",
    "        lim = org_files if org_files >= ps_files else ps_files\n",
    "        plt.bar(['org', 'ps'], [org_files, ps_files], align='center', alpha=0.5)  \n",
    "\n",
    "        plt.title('Test')  \n",
    "        plt.ylabel('Number of Files') \n",
    "\n",
    "        # Valid\n",
    "        plt.subplot(233)  \n",
    "\n",
    "        org_files = len(os.listdir(statPath + i + slash  + 'valid' + slash + 'org' + slash))\n",
    "        ps_files = len(os.listdir(statPath + i + slash  + 'valid' + slash + 'ps' + slash))  \n",
    "        plt.bar(['org', 'ps'], [org_files, ps_files], align='center', alpha=0.5)  \n",
    "\n",
    "        plt.title('Valid')  \n",
    "        plt.ylabel('Number of Files')  \n",
    "        plt.ylim((0, lim)) \n",
    "\n",
    "        plt.show()\n"
   ]
  },
  {
   "cell_type": "markdown",
   "metadata": {},
   "source": [
    "# Balanced Data(take first)"
   ]
  },
  {
   "cell_type": "code",
   "execution_count": 5,
   "metadata": {},
   "outputs": [
    {
     "name": "stdout",
     "output_type": "stream",
     "text": [
      "All files: 12\n",
      "\tORG: 6\n",
      "\tPSS: 6\n",
      "Test data: 12, Valid data: 4\n"
     ]
    }
   ],
   "source": [
    "from shutil import copyfile\n",
    "\n",
    "path = dataSource\n",
    "slash = '/' if os.name != 'nt' else '\\\\'\n",
    "os.chdir(path)\n",
    "\n",
    "def do_it_test(dst):\n",
    "\n",
    "    org = os.listdir('originals')\n",
    "    for i in org:\n",
    "        if verify_picture('originals' + slash + i):\n",
    "            name = os.path.splitext(i)[0]\n",
    "            tmp = os.listdir('photoshops' + slash + name)[:1]\n",
    "            for j in tmp:\n",
    "                if verify_picture('photoshops' + slash + name + slash + j):\n",
    "                    copyfile(os.path.abspath('photoshops' + slash + name + slash + j), os.path.abspath(dst + 'test' + slash + 'ps' + slash + j))\n",
    "                    copyfile(os.path.abspath('originals' + slash + i), os.path.abspath(dst + 'test' + slash + 'org' + slash + i))\n",
    "    all_files = len(os.listdir(dst + 'test' + slash + 'org' + slash)) + len(os.listdir(dst + 'test' + slash + 'ps' + slash))\n",
    "    org_files = len(os.listdir(dst + 'test' + slash + 'org' + slash))\n",
    "    ps_files = len(os.listdir(dst + 'test' + slash + 'ps' + slash))         \n",
    "    print(f'All files: {all_files}\\n\\tORG: {org_files}\\n\\tPSS: {ps_files}')\n",
    "\n",
    "import random\n",
    "\n",
    "def do_it_valid(dst='..' + slash + 'photos' + slash + 'balanced' + slash):\n",
    "    amount_of_org = round(len(os.listdir(dst + 'test' + slash + 'org' + slash)) / 4)\n",
    "    amount_of_ps = round(len(os.listdir(dst + 'test' + slash + 'ps' + slash)) / 4)\n",
    "    \n",
    "    org = os.listdir(dst + 'test' + slash + 'org' + slash)\n",
    "    ps = os.listdir(dst + 'test' + slash + 'ps' + slash)\n",
    "    \n",
    "\n",
    "    for _ in random.sample(org, k=amount_of_org):\n",
    "        copyfile(os.path.abspath(dst + 'test' + slash + 'org' + slash + _), dst + 'valid' + slash + 'org' + slash + _)\n",
    "\n",
    "    for _ in random.sample(ps, k=amount_of_ps):\n",
    "        copyfile(os.path.abspath(dst + 'test' + slash + 'ps' + slash + _), dst + 'valid' + slash + 'ps' + slash + _)\n",
    "\n",
    "    test = len(os.listdir(dst + 'test' + slash + 'org' + slash)) + len(os.listdir(dst + 'test' + slash + 'ps' + slash))\n",
    "    valid = len(os.listdir(dst + 'valid' + slash + 'org' + slash)) + len(os.listdir(dst + 'valid' + slash + 'ps' + slash))\n",
    "\n",
    "    print(f'Test data: {test}, Valid data: {valid}')\n",
    "\n",
    "do_it_test(dst='..' + slash + 'photos' + slash + 'balanced' + slash)\n",
    "do_it_valid(dst='..' + slash + 'photos' + slash + 'balanced' + slash)"
   ]
  },
  {
   "cell_type": "markdown",
   "metadata": {},
   "source": [
    "# Inbalanced Data"
   ]
  },
  {
   "cell_type": "code",
   "execution_count": 6,
   "metadata": {},
   "outputs": [
    {
     "name": "stdout",
     "output_type": "stream",
     "text": [
      "All files: 50\n",
      "\tORG: 6\n",
      "\tPSS: 44\n",
      "Test data: 50, Valid data: 13\n"
     ]
    }
   ],
   "source": [
    "def do_it_test(dst):\n",
    "\n",
    "    org = os.listdir('originals')\n",
    "    for i in org:\n",
    "        if verify_picture('originals' + slash + i):\n",
    "            name = os.path.splitext(i)[0]\n",
    "            tmp = os.listdir('photoshops' + slash + name)\n",
    "            for j in tmp:\n",
    "                if verify_picture('photoshops' + slash + name + slash + j):\n",
    "                    copyfile(os.path.abspath('photoshops' + slash + name + slash + j), os.path.abspath(dst + 'test' + slash + 'ps' + slash + j))\n",
    "        copyfile(os.path.abspath('originals' + slash + i), os.path.abspath(dst + 'test' + slash + 'org' + slash + i))\n",
    "    all_files = len(os.listdir(dst + 'test' + slash + 'org' + slash)) + len(os.listdir(dst + 'test' + slash + 'ps' + slash))\n",
    "    org_files = len(os.listdir(dst + 'test' + slash + 'org' + slash))\n",
    "    ps_files = len(os.listdir(dst + 'test' + slash + 'ps' + slash))         \n",
    "    print(f'All files: {all_files}\\n\\tORG: {org_files}\\n\\tPSS: {ps_files}')\n",
    "    \n",
    "do_it_test(dst='..' + slash + 'photos' + slash + 'inbl' + slash)\n",
    "do_it_valid(dst='..' + slash + 'photos' + slash + 'inbl' + slash)"
   ]
  },
  {
   "cell_type": "markdown",
   "metadata": {},
   "source": [
    "# Undersampling"
   ]
  },
  {
   "cell_type": "code",
   "execution_count": 7,
   "metadata": {},
   "outputs": [
    {
     "name": "stdout",
     "output_type": "stream",
     "text": [
      "All files: 12\n",
      "\tORG: 6\n",
      "\tPSS: 6\n",
      "Test data: 12, Valid data: 4\n"
     ]
    }
   ],
   "source": [
    "def do_it_test(dst):\n",
    "\n",
    "    org = os.listdir('originals')\n",
    "    for i in org:\n",
    "        if verify_picture('originals' + slash + i):\n",
    "            name = os.path.splitext(i)[0]\n",
    "            tmp = [random.choice(os.listdir('photoshops' + slash + name))]\n",
    "            for j in tmp:\n",
    "                if verify_picture('photoshops' + slash + name + slash + j):\n",
    "                    copyfile(os.path.abspath('photoshops' + slash + name + slash + j), os.path.abspath(dst + 'test' + slash + 'ps' + slash + j))\n",
    "                    copyfile(os.path.abspath('originals' + slash + i), os.path.abspath(dst + 'test' + slash + 'org' + slash + i))\n",
    "    all_files = len(os.listdir(dst + 'test' + slash + 'org' + slash)) + len(os.listdir(dst + 'test' + slash + 'ps' + slash))\n",
    "    org_files = len(os.listdir(dst + 'test' + slash + 'org' + slash))\n",
    "    ps_files = len(os.listdir(dst + 'test' + slash + 'ps' + slash))         \n",
    "    print(f'All files: {all_files}\\n\\tORG: {org_files}\\n\\tPSS: {ps_files}')\n",
    "\n",
    "do_it_test(dst='..' + slash + 'photos' + slash + 'Undersampling' + slash)\n",
    "do_it_valid(dst='..' + slash + 'photos' + slash + 'Undersampling' + slash)"
   ]
  },
  {
   "cell_type": "markdown",
   "metadata": {},
   "source": [
    "# Oversampling"
   ]
  },
  {
   "cell_type": "code",
   "execution_count": 8,
   "metadata": {},
   "outputs": [
    {
     "name": "stderr",
     "output_type": "stream",
     "text": [
      "Using TensorFlow backend.\n"
     ]
    },
    {
     "name": "stdout",
     "output_type": "stream",
     "text": [
      "All files: 87\n",
      "\tORG: 43\n",
      "\tPSS: 44\n",
      "Test data: 87, Valid data: 22\n"
     ]
    }
   ],
   "source": [
    "from keras.preprocessing.image import ImageDataGenerator\n",
    "from keras.preprocessing.image import img_to_array, load_img\n",
    "from numpy import expand_dims\n",
    "\n",
    "def do_it_test(dst):\n",
    "    \n",
    "    datagen = ImageDataGenerator(\n",
    "        horizontal_flip=True,\n",
    "        vertical_flip=True,\n",
    "        brightness_range=[0.2,1.0],\n",
    "        zoom_range=[0.5,1.0]\n",
    "    )\n",
    "\n",
    "    org = os.listdir('originals')\n",
    "    for i in org:\n",
    "        if verify_picture('originals' + slash + i):\n",
    "            name = os.path.splitext(i)[0]\n",
    "            tmp = os.listdir('photoshops' + slash + name)\n",
    "            ver = 0\n",
    "            for j in tmp:\n",
    "                if verify_picture('photoshops' + slash + name + slash + j):\n",
    "                    copyfile(os.path.abspath('photoshops' + slash + name + slash + j), os.path.abspath(dst + 'test' + slash + 'ps' + slash + j))\n",
    "                    ver += 1\n",
    "                    \n",
    "            img = load_img(os.path.abspath('originals' + slash + i))\n",
    "            img = img_to_array(img)\n",
    "            img = expand_dims(img, 0)\n",
    "            imageGen = datagen.flow(img, batch_size=1, save_to_dir=dst + 'test' + slash + 'org',save_prefix=\"image\", save_format=\"jpg\")\n",
    "            xd = 0\n",
    "            for image in imageGen:\n",
    "                xd += 1\n",
    "                if xd == ver:\n",
    "                    break\n",
    "    all_files = len(os.listdir(dst + 'test' + slash + 'org' + slash)) + len(os.listdir(dst + 'test' + slash + 'ps' + slash))\n",
    "    org_files = len(os.listdir(dst + 'test' + slash + 'org' + slash))\n",
    "    ps_files = len(os.listdir(dst + 'test' + slash + 'ps' + slash))         \n",
    "    print(f'All files: {all_files}\\n\\tORG: {org_files}\\n\\tPSS: {ps_files}')\n",
    "\n",
    "do_it_test(dst='..' + slash + 'photos' + slash + 'Oversampling' + slash)\n",
    "do_it_valid(dst='..' + slash + 'photos' + slash + 'Oversampling' + slash)"
   ]
  },
  {
   "cell_type": "code",
   "execution_count": 9,
   "metadata": {},
   "outputs": [
    {
     "data": {
      "image/png": "[encoded data removed]",
      "text/plain": [
       "<Figure size 1080x576 with 3 Axes>"
      ]
     },
     "metadata": {
      "needs_background": "light"
     },
     "output_type": "display_data"
    },
    {
     "data": {
      "image/png": "[encoded data removed]",
      "text/plain": [
       "<Figure size 1080x576 with 3 Axes>"
      ]
     },
     "metadata": {
      "needs_background": "light"
     },
     "output_type": "display_data"
    },
    {
     "data": {
      "image/png": "[encoded data removed]",
      "text/plain": [
       "<Figure size 1080x576 with 3 Axes>"
      ]
     },
     "metadata": {
      "needs_background": "light"
     },
     "output_type": "display_data"
    },
    {
     "data": {
      "image/png": "[encoded data removed]",
      "text/plain": [
       "<Figure size 1080x576 with 3 Axes>"
      ]
     },
     "metadata": {
      "needs_background": "light"
     },
     "output_type": "display_data"
    }
   ],
   "source": [
    "stats()"
   ]
  },
  {
   "cell_type": "code",
   "execution_count": 10,
   "metadata": {},
   "outputs": [],
   "source": [
    "# clear()"
   ]
  }
 ],
 "metadata": {
  "kernelspec": {
   "display_name": "Python 3",
   "language": "python",
   "name": "python3"
  },
  "language_info": {
   "codemirror_mode": {
    "name": "ipython",
    "version": 3
   },
   "file_extension": ".py",
   "mimetype": "text/x-python",
   "name": "python",
   "nbconvert_exporter": "python",
   "pygments_lexer": "ipython3",
   "version": "3.7.4"
  }
 },
 "nbformat": 4,
 "nbformat_minor": 2
}
