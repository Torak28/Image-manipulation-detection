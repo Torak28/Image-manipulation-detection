{
 "cells": [
  {
   "cell_type": "markdown",
   "metadata": {},
   "source": [
    "# Cel\n",
    "\n",
    " * Poprzedni eksperyment - Nasze dane balanced data\n",
    " * Inbalanced data\n",
    " * UnderSampling\n",
    " * OverSampling\n",
    "    "
   ]
  },
  {
   "cell_type": "markdown",
   "metadata": {},
   "source": [
    "# Imports + DataSource"
   ]
  },
  {
   "cell_type": "code",
   "execution_count": 1,
   "metadata": {},
   "outputs": [],
   "source": [
    "import os\n",
    "from shutil import copyfile\n",
    "\n",
    "slash = '/' if os.name != 'nt' else '\\\\'\n",
    "dataSource = '/home/torak28/Desktop/Studia/MGU/Projekt/dataSource' if os.name != 'nt' else 'D:\\Studia\\MGU\\Data\\PS-Battles-master'\n",
    "path = dataSource\n",
    "os.chdir(path)\n",
    "    "
   ]
  },
  {
   "cell_type": "code",
   "execution_count": 2,
   "metadata": {},
   "outputs": [
    {
     "name": "stdout",
     "output_type": "stream",
     "text": [
      "False\n"
     ]
    }
   ],
   "source": [
    "from PIL import Image\n",
    "\n",
    "def verify_picture(pic):\n",
    "    try:\n",
    "        im = Image.open(pic)\n",
    "        im.verify()\n",
    "        im.close()\n",
    "        im = Image.open(pic)\n",
    "        im.resize((224,224))\n",
    "        im.convert('RGB')\n",
    "        if sum(im.convert(\"L\").getextrema()) in (0, 2):\n",
    "            return False\n",
    "        if os.stat(pic).st_size == 503:\n",
    "            return False\n",
    "        return True\n",
    "    except Exception as err: \n",
    "        return False\n",
    "\n",
    "if os.name != 'nt': \n",
    "    out = verify_picture('../../MGU/Projekt/PS-Battles-master/originals/49366m.jpg')\n",
    "    print(out)\n",
    "else:\n",
    "    out = verify_picture('..\\..\\MGU\\Data\\PS-Battles-master\\originals\\49366m.jpg')\n",
    "    print(out)"
   ]
  },
  {
   "cell_type": "markdown",
   "metadata": {},
   "source": [
    "# Clear"
   ]
  },
  {
   "cell_type": "code",
   "execution_count": 3,
   "metadata": {},
   "outputs": [],
   "source": [
    "from shutil import rmtree\n",
    "\n",
    "def clear():\n",
    "    clearPath = '/home/torak28/Desktop/Studia/MGU/Projekt/photos' if os.name != 'nt' else 'D:\\Studia\\MGU\\Data\\photos'\n",
    "\n",
    "    tmp = ['balanced', 'inbl', 'Oversampling', 'Undersampling']\n",
    "    tmp2 = ['test', 'valid']\n",
    "    tmp3 = ['org', 'ps']\n",
    "\n",
    "    slash = '/' if os.name != 'nt' else '\\\\'\n",
    "\n",
    "    for i in tmp:\n",
    "        for j in tmp2:\n",
    "            for k in tmp3:\n",
    "                rm = clearPath + slash + i + slash + j + slash + k + slash\n",
    "                rmtree(rm)\n",
    "                os.mkdir(rm)"
   ]
  },
  {
   "cell_type": "markdown",
   "metadata": {},
   "source": [
    "# Stats"
   ]
  },
  {
   "cell_type": "code",
   "execution_count": 4,
   "metadata": {},
   "outputs": [],
   "source": [
    "import matplotlib.pyplot as plt\n",
    "\n",
    "def stats():\n",
    "    tmp = ['balanced', 'inbl', 'Oversampling', 'Undersampling']\n",
    "    statPath = '/home/torak28/Desktop/Studia/MGU/Projekt/photos' if os.name != 'nt' else 'D:\\Studia\\MGU\\Data\\photos'\n",
    "    statPath = statPath + slash\n",
    "    \n",
    "    for i in tmp:\n",
    "\n",
    "        plt.figure(1, figsize = (15,8)) \n",
    "        plt.suptitle(i, fontsize=16)\n",
    "        \n",
    "        # Before\n",
    "        plt.subplot(231)  \n",
    "\n",
    "        org_files = len(os.listdir(dataSource + slash + 'originals' + slash))\n",
    "        ps_files = 0\n",
    "        for j in os.listdir(dataSource + slash + 'photoshops' + slash):\n",
    "            ps_files += len(os.listdir(dataSource + slash + 'photoshops' + slash + j))  \n",
    "        plt.bar(['org', 'ps'], [org_files, ps_files], align='center', alpha=0.5)  \n",
    "\n",
    "        plt.title('Org Data')  \n",
    "        plt.ylabel('Number of Files') \n",
    "    \n",
    "        # Testing\n",
    "        plt.subplot(232)  \n",
    "\n",
    "        org_files = len(os.listdir(statPath + i + slash + 'test' + slash + 'org' + slash))\n",
    "        ps_files = len(os.listdir(statPath + i + slash  + 'test' + slash + 'ps' + slash))  \n",
    "        lim = org_files if org_files >= ps_files else ps_files\n",
    "        plt.bar(['org', 'ps'], [org_files, ps_files], align='center', alpha=0.5)  \n",
    "\n",
    "        plt.title('Test')  \n",
    "        plt.ylabel('Number of Files') \n",
    "\n",
    "        # Valid\n",
    "        plt.subplot(233)  \n",
    "\n",
    "        org_files = len(os.listdir(statPath + i + slash  + 'valid' + slash + 'org' + slash))\n",
    "        ps_files = len(os.listdir(statPath + i + slash  + 'valid' + slash + 'ps' + slash))  \n",
    "        plt.bar(['org', 'ps'], [org_files, ps_files], align='center', alpha=0.5)  \n",
    "\n",
    "        plt.title('Valid')  \n",
    "        plt.ylabel('Number of Files')  \n",
    "        plt.ylim((0, lim)) \n",
    "\n",
    "        plt.show()\n"
   ]
  },
  {
   "cell_type": "markdown",
   "metadata": {},
   "source": [
    "# Balanced Data(take first)"
   ]
  },
  {
   "cell_type": "code",
   "execution_count": 5,
   "metadata": {},
   "outputs": [],
   "source": [
    "def do_it_test(dst):\n",
    "\n",
    "    org = os.listdir('originals')\n",
    "    for i in org:\n",
    "        if verify_picture('originals' + slash + i):\n",
    "            name = os.path.splitext(i)[0]\n",
    "            tmp = os.listdir('photoshops' + slash + name)[:1]\n",
    "            for j in tmp:\n",
    "                if verify_picture('photoshops' + slash + name + slash + j):\n",
    "                    copyfile(os.path.abspath('photoshops' + slash + name + slash + j), os.path.abspath(dst + 'test' + slash + 'ps' + slash + j))\n",
    "                    copyfile(os.path.abspath('originals' + slash + i), os.path.abspath(dst + 'test' + slash + 'org' + slash + i))\n",
    "    all_files = len(os.listdir(dst + 'test' + slash + 'org' + slash)) + len(os.listdir(dst + 'test' + slash + 'ps' + slash))\n",
    "    org_files = len(os.listdir(dst + 'test' + slash + 'org' + slash))\n",
    "    ps_files = len(os.listdir(dst + 'test' + slash + 'ps' + slash))         \n",
    "    print(f'All files: {all_files}\\n\\tORG: {org_files}\\n\\tPSS: {ps_files}')\n",
    "\n",
    "import random\n",
    "\n",
    "def do_it_valid(dst='..' + slash + 'photos' + slash + 'balanced' + slash):\n",
    "    amount_of_org = round(len(os.listdir(dst + 'test' + slash + 'org' + slash)) / 4)\n",
    "    amount_of_ps = round(len(os.listdir(dst + 'test' + slash + 'ps' + slash)) / 4)\n",
    "    \n",
    "    org = os.listdir(dst + 'test' + slash + 'org' + slash)\n",
    "    ps = os.listdir(dst + 'test' + slash + 'ps' + slash)\n",
    "    \n",
    "\n",
    "    for _ in random.sample(org, k=amount_of_org):\n",
    "        copyfile(os.path.abspath(dst + 'test' + slash + 'org' + slash + _), dst + 'valid' + slash + 'org' + slash + _)\n",
    "\n",
    "    for _ in random.sample(ps, k=amount_of_ps):\n",
    "        copyfile(os.path.abspath(dst + 'test' + slash + 'ps' + slash + _), dst + 'valid' + slash + 'ps' + slash + _)\n",
    "\n",
    "    test = len(os.listdir(dst + 'test' + slash + 'org' + slash)) + len(os.listdir(dst + 'test' + slash + 'ps' + slash))\n",
    "    valid = len(os.listdir(dst + 'valid' + slash + 'org' + slash)) + len(os.listdir(dst + 'valid' + slash + 'ps' + slash))\n",
    "\n",
    "    print(f'Test data: {test}, Valid data: {valid}')\n",
    "\n",
    "# do_it_test(dst='..' + slash + 'photos' + slash + 'balanced' + slash)\n",
    "# do_it_valid(dst='..' + slash + 'photos' + slash + 'balanced' + slash)"
   ]
  },
  {
   "cell_type": "markdown",
   "metadata": {},
   "source": [
    "# Inbalanced Data"
   ]
  },
  {
   "cell_type": "code",
   "execution_count": 6,
   "metadata": {},
   "outputs": [],
   "source": [
    "def do_it_test(dst):\n",
    "\n",
    "    org = os.listdir('originals')\n",
    "    for i in org:\n",
    "        if verify_picture('originals' + slash + i):\n",
    "            name = os.path.splitext(i)[0]\n",
    "            tmp = os.listdir('photoshops' + slash + name)\n",
    "            for j in tmp:\n",
    "                if verify_picture('photoshops' + slash + name + slash + j):\n",
    "                    copyfile(os.path.abspath('photoshops' + slash + name + slash + j), os.path.abspath(dst + 'test' + slash + 'ps' + slash + j))\n",
    "        copyfile(os.path.abspath('originals' + slash + i), os.path.abspath(dst + 'test' + slash + 'org' + slash + i))\n",
    "    all_files = len(os.listdir(dst + 'test' + slash + 'org' + slash)) + len(os.listdir(dst + 'test' + slash + 'ps' + slash))\n",
    "    org_files = len(os.listdir(dst + 'test' + slash + 'org' + slash))\n",
    "    ps_files = len(os.listdir(dst + 'test' + slash + 'ps' + slash))         \n",
    "    print(f'All files: {all_files}\\n\\tORG: {org_files}\\n\\tPSS: {ps_files}')\n",
    "    \n",
    "# do_it_test(dst='..' + slash + 'photos' + slash + 'inbl' + slash)\n",
    "# do_it_valid(dst='..' + slash + 'photos' + slash + 'inbl' + slash)"
   ]
  },
  {
   "cell_type": "markdown",
   "metadata": {},
   "source": [
    "# Undersampling"
   ]
  },
  {
   "cell_type": "code",
   "execution_count": 7,
   "metadata": {},
   "outputs": [],
   "source": [
    "def do_it_test(dst):\n",
    "\n",
    "    org = os.listdir('originals')\n",
    "    for i in org:\n",
    "        if verify_picture('originals' + slash + i):\n",
    "            name = os.path.splitext(i)[0]\n",
    "            tmp = [random.choice(os.listdir('photoshops' + slash + name))]\n",
    "            for j in tmp:\n",
    "                if verify_picture('photoshops' + slash + name + slash + j):\n",
    "                    copyfile(os.path.abspath('photoshops' + slash + name + slash + j), os.path.abspath(dst + 'test' + slash + 'ps' + slash + j))\n",
    "                    copyfile(os.path.abspath('originals' + slash + i), os.path.abspath(dst + 'test' + slash + 'org' + slash + i))\n",
    "    all_files = len(os.listdir(dst + 'test' + slash + 'org' + slash)) + len(os.listdir(dst + 'test' + slash + 'ps' + slash))\n",
    "    org_files = len(os.listdir(dst + 'test' + slash + 'org' + slash))\n",
    "    ps_files = len(os.listdir(dst + 'test' + slash + 'ps' + slash))         \n",
    "    print(f'All files: {all_files}\\n\\tORG: {org_files}\\n\\tPSS: {ps_files}')\n",
    "\n",
    "# do_it_test(dst='..' + slash + 'photos' + slash + 'Undersampling' + slash)\n",
    "# do_it_valid(dst='..' + slash + 'photos' + slash + 'Undersampling' + slash)"
   ]
  },
  {
   "cell_type": "markdown",
   "metadata": {},
   "source": [
    "# Oversampling"
   ]
  },
  {
   "cell_type": "code",
   "execution_count": 8,
   "metadata": {},
   "outputs": [
    {
     "name": "stderr",
     "output_type": "stream",
     "text": [
      "Using TensorFlow backend.\n",
      "d:\\programs\\python37\\lib\\site-packages\\PIL\\Image.py:989: UserWarning: Palette images with Transparency expressed in bytes should be converted to RGBA images\n",
      "  \"Palette images with Transparency expressed in bytes should be \"\n"
     ]
    },
    {
     "name": "stdout",
     "output_type": "stream",
     "text": [
      "Inblanced done\n",
      "Found 11121 images belonging to 1 classes.\n",
      "All files: 173701\n",
      "\tORG: 86710\n",
      "\tPSS: 86991\n",
      "Test data: 173701, Valid data: 43426\n"
     ]
    }
   ],
   "source": [
    "from keras.preprocessing.image import ImageDataGenerator\n",
    "from keras.preprocessing.image import img_to_array, load_img\n",
    "from numpy import expand_dims\n",
    "\n",
    "def do_it_inbl(dst):\n",
    "    ver_org = []\n",
    "    org = os.listdir('originals')\n",
    "    for i in org:\n",
    "        if verify_picture('originals' + slash + i):\n",
    "            ver_org.append(i)\n",
    "#             name = os.path.splitext(i)[0]\n",
    "#             tmp = os.listdir('photoshops' + slash + name)\n",
    "#             for j in tmp:\n",
    "#                 if verify_picture('photoshops' + slash + name + slash + j):\n",
    "#                     copyfile(os.path.abspath('photoshops' + slash + name + slash + j), os.path.abspath(dst + 'test' + slash + 'ps' + slash + j))\n",
    "#         copyfile(os.path.abspath('originals' + slash + i), os.path.abspath(dst + 'test' + slash + 'org' + slash + i))\n",
    "    print('Inblanced done')\n",
    "    return ver_org\n",
    "\n",
    "def do_it_test(dst):\n",
    "    org = do_it_inbl(dst)\n",
    "    diff = len(os.listdir(dst + 'test' + slash + 'ps' + slash)) - len(os.listdir(dst + 'test' + slash + 'org' + slash))\n",
    "    datagen = ImageDataGenerator(\n",
    "        horizontal_flip=True,\n",
    "        vertical_flip=True,\n",
    "        brightness_range=[0.2,1.0],\n",
    "        zoom_range=[0.5,1.0]\n",
    "    )\n",
    "    it = datagen.flow_from_directory(dst + 'test' + slash, classes=['org'], batch_size=1, save_to_dir=dst + 'test' + slash + 'org',save_prefix=\"image\", save_format=\"jpg\")\n",
    "    for image in range(diff):\n",
    "        try:\n",
    "            it.next()\n",
    "        except Exception as err: \n",
    "            pass\n",
    "    all_files = len(os.listdir(dst + 'test' + slash + 'org' + slash)) + len(os.listdir(dst + 'test' + slash + 'ps' + slash))\n",
    "    org_files = len(os.listdir(dst + 'test' + slash + 'org' + slash))\n",
    "    ps_files = len(os.listdir(dst + 'test' + slash + 'ps' + slash))         \n",
    "    print(f'All files: {all_files}\\n\\tORG: {org_files}\\n\\tPSS: {ps_files}')\n",
    "\n",
    "do_it_test(dst='..' + slash + 'photos' + slash + 'Oversampling' + slash)\n",
    "do_it_valid(dst='..' + slash + 'photos' + slash + 'Oversampling' + slash)"
   ]
  },
  {
   "cell_type": "code",
   "execution_count": 14,
   "metadata": {},
   "outputs": [
    {
     "data": {
      "image/png": "[encoded data removed]",
      "text/plain": [
       "<Figure size 1080x576 with 3 Axes>"
      ]
     },
     "metadata": {
      "needs_background": "light"
     },
     "output_type": "display_data"
    },
    {
     "data": {
      "image/png": "[encoded data removed]",
      "text/plain": [
       "<Figure size 1080x576 with 3 Axes>"
      ]
     },
     "metadata": {
      "needs_background": "light"
     },
     "output_type": "display_data"
    },
    {
     "data": {
      "image/png": "[encoded data removed]",
      "text/plain": [
       "<Figure size 1080x576 with 3 Axes>"
      ]
     },
     "metadata": {
      "needs_background": "light"
     },
     "output_type": "display_data"
    },
    {
     "data": {
      "image/png": "[encoded data removed]",
      "text/plain": [
       "<Figure size 1080x576 with 3 Axes>"
      ]
     },
     "metadata": {
      "needs_background": "light"
     },
     "output_type": "display_data"
    }
   ],
   "source": [
    "stats()"
   ]
  },
  {
   "cell_type": "code",
   "execution_count": 10,
   "metadata": {},
   "outputs": [],
   "source": [
    "# clear()"
   ]
  },
  {
   "cell_type": "markdown",
   "metadata": {},
   "source": [
    "# Model"
   ]
  },
  {
   "cell_type": "code",
   "execution_count": 15,
   "metadata": {},
   "outputs": [],
   "source": [
    "import numpy as np\n",
    "import pandas as pd\n",
    "\n",
    "import cv2\n",
    "\n",
    "from keras.applications.resnet import ResNet50\n",
    "from keras.layers import Dense\n",
    "from keras.models import Sequential\n",
    "from keras import optimizers\n",
    "from keras.applications.resnet50 import preprocess_input\n",
    "from tensorflow.python.keras.callbacks import EarlyStopping, ModelCheckpoint"
   ]
  },
  {
   "cell_type": "code",
   "execution_count": 19,
   "metadata": {},
   "outputs": [],
   "source": [
    "NUM_CLASSES = 2\n",
    "CHANNELS = 3\n",
    "\n",
    "IMAGE_RESIZE = 224\n",
    "DENSE_LAYER_ACTIVATION = 'softmax'\n",
    "LOSS_METRICS = ['accuracy']\n",
    "\n",
    "NUM_EPOCHS = 10\n",
    "EARLY_STOP_PATIENCE = 3\n",
    "\n",
    "STEPS_PER_EPOCH_TRAINING = 10\n",
    "STEPS_PER_EPOCH_VALIDATION = 10\n",
    "\n",
    "BATCH_SIZE_TRAINING = 32\n",
    "BATCH_SIZE_VALIDATION = 32\n",
    "\n",
    "BATCH_SIZE_TESTING = 1"
   ]
  },
  {
   "cell_type": "code",
   "execution_count": 20,
   "metadata": {},
   "outputs": [],
   "source": [
    "def exper1(top, pool, opt, loss, dataGen, pathFile):\n",
    "    out = []\n",
    "    print(f'MODEL with:')\n",
    "    print(f'\\tinclude_top: {top}')\n",
    "    print(f'\\tpooling: {pool}')\n",
    "    print(f'\\toptimizer: {opt}')\n",
    "    print(f'\\tloss_func: {loss}')\n",
    "    print(f'\\tdata_gen: {dataGen}')\n",
    "    \n",
    "    # Model\n",
    "    model = Sequential()\n",
    "    model.add(ResNet50(include_top = top, pooling = pool, weights = 'imagenet'))\n",
    "    model.add(Dense(512, activation='relu'))\n",
    "    model.add(Dense(256, activation='relu'))\n",
    "    model.add(Dense(256, activation='relu'))\n",
    "    model.add(Dense(128, activation='relu'))\n",
    "    model.add(Dense(32, activation='relu'))\n",
    "    model.add(Dense(NUM_CLASSES, activation = DENSE_LAYER_ACTIVATION))\n",
    "    model.layers[0].trainable = False\n",
    "    model.summary()\n",
    "    model.compile(optimizer = opt, loss = loss, metrics = LOSS_METRICS)\n",
    "    \n",
    "    # Data Gen\n",
    "    image_size = IMAGE_RESIZE\n",
    "    if dataGen:\n",
    "        data_generator = ImageDataGenerator(preprocessing_function=preprocess_input)\n",
    "    else:\n",
    "        data_generator = ImageDataGenerator(\n",
    "            shear_range=10,\n",
    "            zoom_range=0.2,\n",
    "            horizontal_flip=True,\n",
    "            preprocessing_function=preprocess_input\n",
    "        )\n",
    "    \n",
    "    # Data\n",
    "    path = pathFile\n",
    "    slash = '\\\\'\n",
    "    train_generator = data_generator.flow_from_directory(\n",
    "        directory=path + slash + 'test' + slash,\n",
    "        target_size=(image_size, image_size),\n",
    "        batch_size=BATCH_SIZE_TRAINING,\n",
    "        class_mode='categorical')\n",
    "\n",
    "    validation_generator = data_generator.flow_from_directory(\n",
    "        directory=path + slash + 'valid'+ slash,\n",
    "        target_size=(image_size, image_size),\n",
    "        batch_size=BATCH_SIZE_VALIDATION,\n",
    "        class_mode='categorical') \n",
    "    \n",
    "    # Callbacks\n",
    "    cb_early_stopper = EarlyStopping(monitor = 'val_loss', patience = EARLY_STOP_PATIENCE)\n",
    "    cb_checkpointer = ModelCheckpoint(filepath = '..' + slash + 'working' + slash + 'best.hdf5', monitor = 'val_loss', save_best_only = True, mode = 'auto')\n",
    "    \n",
    "    # Fit\n",
    "    fit_history = model.fit_generator(\n",
    "        generator=train_generator,\n",
    "        steps_per_epoch=STEPS_PER_EPOCH_TRAINING,\n",
    "        epochs = NUM_EPOCHS,\n",
    "        validation_data=validation_generator,\n",
    "        validation_steps=STEPS_PER_EPOCH_VALIDATION,\n",
    "        callbacks=[cb_checkpointer, cb_early_stopper]\n",
    "    )\n",
    "    model.load_weights('..' + slash + 'working' + slash + 'best.hdf5')\n",
    "    name = 'MyData_Top_' + str(top) + '_Pool_' + pool + '_Opt_' + opt + '_Loss_' + loss + '_dataGen_' + str(dataGen)\n",
    "    model.save('..' + slash + 'working' + slash + name + '.h5')\n",
    "    \n",
    "    # Score v1\n",
    "    scoreRes = model.evaluate_generator(\n",
    "        generator=validation_generator\n",
    "    )\n",
    "    print(f'Accuracy = {scoreRes}')\n",
    "    tmp = {}\n",
    "    tmp[name] = scoreRes\n",
    "    out.append(tmp)\n",
    "    \n",
    "    # Score v2\n",
    "    plt.figure(1, figsize = (15,8)) \n",
    "    plt.subplot(221)  \n",
    "    plt.plot(fit_history.history['accuracy'])  \n",
    "    plt.plot(fit_history.history['val_accuracy'])  \n",
    "    plt.title('model accuracy')  \n",
    "    plt.ylabel('accuracy')  \n",
    "    plt.xlabel('epoch')  \n",
    "    plt.legend(['train', 'valid']) \n",
    "    plt.subplot(222)  \n",
    "    plt.plot(fit_history.history['loss'])  \n",
    "    plt.plot(fit_history.history['val_loss'])  \n",
    "    plt.title('model loss')  \n",
    "    plt.ylabel('loss')  \n",
    "    plt.xlabel('epoch')  \n",
    "    plt.legend(['train', 'valid']) \n",
    "    plt.show()\n",
    "    \n",
    "    # Show some predictions\n",
    "    test_generator = data_generator.flow_from_directory(\n",
    "        directory = path + slash + 'show' + slash,\n",
    "        target_size = (image_size, image_size),\n",
    "        batch_size = BATCH_SIZE_TESTING,\n",
    "        class_mode = None,\n",
    "        shuffle = False,\n",
    "        seed = 123\n",
    "    )\n",
    "    test_generator.reset()\n",
    "    pred = model.predict_generator(test_generator, steps = len(test_generator), verbose = 1)\n",
    "    predicted_class_indices = np.argmax(pred, axis = 1)\n",
    "    TEST_DIR = path + slash + 'show' + slash\n",
    "    f, ax = plt.subplots(5, 5, figsize = (15, 15))\n",
    "    for i in range(0,25):\n",
    "        imgBGR = cv2.imread(TEST_DIR + test_generator.filenames[i])\n",
    "        imgRGB = cv2.cvtColor(imgBGR, cv2.COLOR_BGR2RGB)\n",
    "        # a if condition else b\n",
    "        predicted_class = \"Dog\" if predicted_class_indices[i] else \"Cat\"\n",
    "        ax[i//5, i%5].imshow(imgRGB)\n",
    "        ax[i//5, i%5].axis('off')\n",
    "        ax[i//5, i%5].set_title(\"Predicted:{}\".format(predicted_class))    \n",
    "    plt.show()\n",
    "    \n",
    "    # End\n",
    "    print('---KONIEC---')"
   ]
  },
  {
   "cell_type": "markdown",
   "metadata": {},
   "source": [
    "# Var + exp2 func"
   ]
  },
  {
   "cell_type": "code",
   "execution_count": 21,
   "metadata": {},
   "outputs": [],
   "source": [
    "path = 'D:\\\\Studia\\\\MGU\\\\Data\\\\photos'\n",
    "\n",
    "slash = '/' if os.name != 'nt' else '\\\\'\n",
    "\n",
    "folders = ['balanced', 'inbl', 'Oversampling', 'Undersampling']\n",
    "\n",
    "def exp2(pth):\n",
    "    exper1(False, 'avg', 'sgd', 'categorical_crossentropy', True, pth)\n",
    "#     exper1(False, 'avg', 'sgd', 'mean_squared_error', True, pth)\n",
    "#     exper1(False, 'avg', 'adam', 'mean_squared_error', True, pth)\n",
    "#     exper1(False, 'avg', 'adam', 'categorical_crossentropy', True, pth)\n",
    "#     exper1(False, 'avg', 'adadelta', 'categorical_crossentropy', True, pth)"
   ]
  },
  {
   "cell_type": "code",
   "execution_count": 22,
   "metadata": {},
   "outputs": [
    {
     "name": "stdout",
     "output_type": "stream",
     "text": [
      "MODEL with:\n",
      "\tinclude_top: False\n",
      "\tpooling: avg\n",
      "\toptimizer: sgd\n",
      "\tloss_func: categorical_crossentropy\n",
      "\tdata_gen: True\n",
      "Model: \"sequential_2\"\n",
      "_________________________________________________________________\n",
      "Layer (type)                 Output Shape              Param #   \n",
      "=================================================================\n",
      "resnet50 (Model)             (None, 2048)              23587712  \n",
      "_________________________________________________________________\n",
      "dense_6 (Dense)              (None, 512)               1049088   \n",
      "_________________________________________________________________\n",
      "dense_7 (Dense)              (None, 256)               131328    \n",
      "_________________________________________________________________\n",
      "dense_8 (Dense)              (None, 256)               65792     \n",
      "_________________________________________________________________\n",
      "dense_9 (Dense)              (None, 128)               32896     \n",
      "_________________________________________________________________\n",
      "dense_10 (Dense)             (None, 32)                4128      \n",
      "_________________________________________________________________\n",
      "dense_11 (Dense)             (None, 2)                 66        \n",
      "=================================================================\n",
      "Total params: 24,871,010\n",
      "Trainable params: 1,283,298\n",
      "Non-trainable params: 23,587,712\n",
      "_________________________________________________________________\n",
      "Found 21896 images belonging to 2 classes.\n",
      "Found 5474 images belonging to 2 classes.\n",
      "Epoch 1/10\n",
      " 3/10 [========>.....................] - ETA: 44s - loss: 0.6707 - accuracy: 0.6250 "
     ]
    },
    {
     "ename": "KeyboardInterrupt",
     "evalue": "",
     "output_type": "error",
     "traceback": [
      "\u001b[1;31m---------------------------------------------------------------------------\u001b[0m",
      "\u001b[1;31mKeyboardInterrupt\u001b[0m                         Traceback (most recent call last)",
      "\u001b[1;32m<ipython-input-22-774810f455f9>\u001b[0m in \u001b[0;36m<module>\u001b[1;34m\u001b[0m\n\u001b[0;32m      1\u001b[0m \u001b[1;32mfor\u001b[0m \u001b[0mfolder\u001b[0m \u001b[1;32min\u001b[0m \u001b[0mfolders\u001b[0m\u001b[1;33m:\u001b[0m\u001b[1;33m\u001b[0m\u001b[1;33m\u001b[0m\u001b[0m\n\u001b[0;32m      2\u001b[0m     \u001b[0mpathFile\u001b[0m \u001b[1;33m=\u001b[0m \u001b[0mpath\u001b[0m \u001b[1;33m+\u001b[0m \u001b[0mslash\u001b[0m \u001b[1;33m+\u001b[0m \u001b[0mfolder\u001b[0m\u001b[1;33m\u001b[0m\u001b[1;33m\u001b[0m\u001b[0m\n\u001b[1;32m----> 3\u001b[1;33m     \u001b[0mexp2\u001b[0m\u001b[1;33m(\u001b[0m\u001b[0mpth\u001b[0m\u001b[1;33m=\u001b[0m\u001b[0mpathFile\u001b[0m\u001b[1;33m)\u001b[0m\u001b[1;33m\u001b[0m\u001b[1;33m\u001b[0m\u001b[0m\n\u001b[0m",
      "\u001b[1;32m<ipython-input-21-d8eeae86162c>\u001b[0m in \u001b[0;36mexp2\u001b[1;34m(pth)\u001b[0m\n\u001b[0;32m      6\u001b[0m \u001b[1;33m\u001b[0m\u001b[0m\n\u001b[0;32m      7\u001b[0m \u001b[1;32mdef\u001b[0m \u001b[0mexp2\u001b[0m\u001b[1;33m(\u001b[0m\u001b[0mpth\u001b[0m\u001b[1;33m)\u001b[0m\u001b[1;33m:\u001b[0m\u001b[1;33m\u001b[0m\u001b[1;33m\u001b[0m\u001b[0m\n\u001b[1;32m----> 8\u001b[1;33m     \u001b[0mexper1\u001b[0m\u001b[1;33m(\u001b[0m\u001b[1;32mFalse\u001b[0m\u001b[1;33m,\u001b[0m \u001b[1;34m'avg'\u001b[0m\u001b[1;33m,\u001b[0m \u001b[1;34m'sgd'\u001b[0m\u001b[1;33m,\u001b[0m \u001b[1;34m'categorical_crossentropy'\u001b[0m\u001b[1;33m,\u001b[0m \u001b[1;32mTrue\u001b[0m\u001b[1;33m,\u001b[0m \u001b[0mpth\u001b[0m\u001b[1;33m)\u001b[0m\u001b[1;33m\u001b[0m\u001b[1;33m\u001b[0m\u001b[0m\n\u001b[0m\u001b[0;32m      9\u001b[0m \u001b[1;31m#     exper1(False, 'avg', 'sgd', 'mean_squared_error', True, pth)\u001b[0m\u001b[1;33m\u001b[0m\u001b[1;33m\u001b[0m\u001b[1;33m\u001b[0m\u001b[0m\n\u001b[0;32m     10\u001b[0m \u001b[1;31m#     exper1(False, 'avg', 'adam', 'mean_squared_error', True, pth)\u001b[0m\u001b[1;33m\u001b[0m\u001b[1;33m\u001b[0m\u001b[1;33m\u001b[0m\u001b[0m\n",
      "\u001b[1;32m<ipython-input-20-54bc41ae51ab>\u001b[0m in \u001b[0;36mexper1\u001b[1;34m(top, pool, opt, loss, dataGen, pathFile)\u001b[0m\n\u001b[0;32m     59\u001b[0m         \u001b[0mvalidation_data\u001b[0m\u001b[1;33m=\u001b[0m\u001b[0mvalidation_generator\u001b[0m\u001b[1;33m,\u001b[0m\u001b[1;33m\u001b[0m\u001b[1;33m\u001b[0m\u001b[0m\n\u001b[0;32m     60\u001b[0m         \u001b[0mvalidation_steps\u001b[0m\u001b[1;33m=\u001b[0m\u001b[0mSTEPS_PER_EPOCH_VALIDATION\u001b[0m\u001b[1;33m,\u001b[0m\u001b[1;33m\u001b[0m\u001b[1;33m\u001b[0m\u001b[0m\n\u001b[1;32m---> 61\u001b[1;33m         \u001b[0mcallbacks\u001b[0m\u001b[1;33m=\u001b[0m\u001b[1;33m[\u001b[0m\u001b[0mcb_checkpointer\u001b[0m\u001b[1;33m,\u001b[0m \u001b[0mcb_early_stopper\u001b[0m\u001b[1;33m]\u001b[0m\u001b[1;33m\u001b[0m\u001b[1;33m\u001b[0m\u001b[0m\n\u001b[0m\u001b[0;32m     62\u001b[0m     )\n\u001b[0;32m     63\u001b[0m     \u001b[0mmodel\u001b[0m\u001b[1;33m.\u001b[0m\u001b[0mload_weights\u001b[0m\u001b[1;33m(\u001b[0m\u001b[1;34m'..'\u001b[0m \u001b[1;33m+\u001b[0m \u001b[0mslash\u001b[0m \u001b[1;33m+\u001b[0m \u001b[1;34m'working'\u001b[0m \u001b[1;33m+\u001b[0m \u001b[0mslash\u001b[0m \u001b[1;33m+\u001b[0m \u001b[1;34m'best.hdf5'\u001b[0m\u001b[1;33m)\u001b[0m\u001b[1;33m\u001b[0m\u001b[1;33m\u001b[0m\u001b[0m\n",
      "\u001b[1;32md:\\programs\\python37\\lib\\site-packages\\keras\\legacy\\interfaces.py\u001b[0m in \u001b[0;36mwrapper\u001b[1;34m(*args, **kwargs)\u001b[0m\n\u001b[0;32m     89\u001b[0m                 warnings.warn('Update your `' + object_name + '` call to the ' +\n\u001b[0;32m     90\u001b[0m                               'Keras 2 API: ' + signature, stacklevel=2)\n\u001b[1;32m---> 91\u001b[1;33m             \u001b[1;32mreturn\u001b[0m \u001b[0mfunc\u001b[0m\u001b[1;33m(\u001b[0m\u001b[1;33m*\u001b[0m\u001b[0margs\u001b[0m\u001b[1;33m,\u001b[0m \u001b[1;33m**\u001b[0m\u001b[0mkwargs\u001b[0m\u001b[1;33m)\u001b[0m\u001b[1;33m\u001b[0m\u001b[1;33m\u001b[0m\u001b[0m\n\u001b[0m\u001b[0;32m     92\u001b[0m         \u001b[0mwrapper\u001b[0m\u001b[1;33m.\u001b[0m\u001b[0m_original_function\u001b[0m \u001b[1;33m=\u001b[0m \u001b[0mfunc\u001b[0m\u001b[1;33m\u001b[0m\u001b[1;33m\u001b[0m\u001b[0m\n\u001b[0;32m     93\u001b[0m         \u001b[1;32mreturn\u001b[0m \u001b[0mwrapper\u001b[0m\u001b[1;33m\u001b[0m\u001b[1;33m\u001b[0m\u001b[0m\n",
      "\u001b[1;32md:\\programs\\python37\\lib\\site-packages\\keras\\engine\\training.py\u001b[0m in \u001b[0;36mfit_generator\u001b[1;34m(self, generator, steps_per_epoch, epochs, verbose, callbacks, validation_data, validation_steps, validation_freq, class_weight, max_queue_size, workers, use_multiprocessing, shuffle, initial_epoch)\u001b[0m\n\u001b[0;32m   1730\u001b[0m             \u001b[0muse_multiprocessing\u001b[0m\u001b[1;33m=\u001b[0m\u001b[0muse_multiprocessing\u001b[0m\u001b[1;33m,\u001b[0m\u001b[1;33m\u001b[0m\u001b[1;33m\u001b[0m\u001b[0m\n\u001b[0;32m   1731\u001b[0m             \u001b[0mshuffle\u001b[0m\u001b[1;33m=\u001b[0m\u001b[0mshuffle\u001b[0m\u001b[1;33m,\u001b[0m\u001b[1;33m\u001b[0m\u001b[1;33m\u001b[0m\u001b[0m\n\u001b[1;32m-> 1732\u001b[1;33m             initial_epoch=initial_epoch)\n\u001b[0m\u001b[0;32m   1733\u001b[0m \u001b[1;33m\u001b[0m\u001b[0m\n\u001b[0;32m   1734\u001b[0m     \u001b[1;33m@\u001b[0m\u001b[0minterfaces\u001b[0m\u001b[1;33m.\u001b[0m\u001b[0mlegacy_generator_methods_support\u001b[0m\u001b[1;33m\u001b[0m\u001b[1;33m\u001b[0m\u001b[0m\n",
      "\u001b[1;32md:\\programs\\python37\\lib\\site-packages\\keras\\engine\\training_generator.py\u001b[0m in \u001b[0;36mfit_generator\u001b[1;34m(model, generator, steps_per_epoch, epochs, verbose, callbacks, validation_data, validation_steps, validation_freq, class_weight, max_queue_size, workers, use_multiprocessing, shuffle, initial_epoch)\u001b[0m\n\u001b[0;32m    218\u001b[0m                                             \u001b[0msample_weight\u001b[0m\u001b[1;33m=\u001b[0m\u001b[0msample_weight\u001b[0m\u001b[1;33m,\u001b[0m\u001b[1;33m\u001b[0m\u001b[1;33m\u001b[0m\u001b[0m\n\u001b[0;32m    219\u001b[0m                                             \u001b[0mclass_weight\u001b[0m\u001b[1;33m=\u001b[0m\u001b[0mclass_weight\u001b[0m\u001b[1;33m,\u001b[0m\u001b[1;33m\u001b[0m\u001b[1;33m\u001b[0m\u001b[0m\n\u001b[1;32m--> 220\u001b[1;33m                                             reset_metrics=False)\n\u001b[0m\u001b[0;32m    221\u001b[0m \u001b[1;33m\u001b[0m\u001b[0m\n\u001b[0;32m    222\u001b[0m                 \u001b[0mouts\u001b[0m \u001b[1;33m=\u001b[0m \u001b[0mto_list\u001b[0m\u001b[1;33m(\u001b[0m\u001b[0mouts\u001b[0m\u001b[1;33m)\u001b[0m\u001b[1;33m\u001b[0m\u001b[1;33m\u001b[0m\u001b[0m\n",
      "\u001b[1;32md:\\programs\\python37\\lib\\site-packages\\keras\\engine\\training.py\u001b[0m in \u001b[0;36mtrain_on_batch\u001b[1;34m(self, x, y, sample_weight, class_weight, reset_metrics)\u001b[0m\n\u001b[0;32m   1512\u001b[0m             \u001b[0mins\u001b[0m \u001b[1;33m=\u001b[0m \u001b[0mx\u001b[0m \u001b[1;33m+\u001b[0m \u001b[0my\u001b[0m \u001b[1;33m+\u001b[0m \u001b[0msample_weights\u001b[0m\u001b[1;33m\u001b[0m\u001b[1;33m\u001b[0m\u001b[0m\n\u001b[0;32m   1513\u001b[0m         \u001b[0mself\u001b[0m\u001b[1;33m.\u001b[0m\u001b[0m_make_train_function\u001b[0m\u001b[1;33m(\u001b[0m\u001b[1;33m)\u001b[0m\u001b[1;33m\u001b[0m\u001b[1;33m\u001b[0m\u001b[0m\n\u001b[1;32m-> 1514\u001b[1;33m         \u001b[0moutputs\u001b[0m \u001b[1;33m=\u001b[0m \u001b[0mself\u001b[0m\u001b[1;33m.\u001b[0m\u001b[0mtrain_function\u001b[0m\u001b[1;33m(\u001b[0m\u001b[0mins\u001b[0m\u001b[1;33m)\u001b[0m\u001b[1;33m\u001b[0m\u001b[1;33m\u001b[0m\u001b[0m\n\u001b[0m\u001b[0;32m   1515\u001b[0m \u001b[1;33m\u001b[0m\u001b[0m\n\u001b[0;32m   1516\u001b[0m         \u001b[1;32mif\u001b[0m \u001b[0mreset_metrics\u001b[0m\u001b[1;33m:\u001b[0m\u001b[1;33m\u001b[0m\u001b[1;33m\u001b[0m\u001b[0m\n",
      "\u001b[1;32md:\\programs\\python37\\lib\\site-packages\\tensorflow_core\\python\\keras\\backend.py\u001b[0m in \u001b[0;36m__call__\u001b[1;34m(self, inputs)\u001b[0m\n\u001b[0;32m   3738\u001b[0m         \u001b[0mvalue\u001b[0m \u001b[1;33m=\u001b[0m \u001b[0mmath_ops\u001b[0m\u001b[1;33m.\u001b[0m\u001b[0mcast\u001b[0m\u001b[1;33m(\u001b[0m\u001b[0mvalue\u001b[0m\u001b[1;33m,\u001b[0m \u001b[0mtensor\u001b[0m\u001b[1;33m.\u001b[0m\u001b[0mdtype\u001b[0m\u001b[1;33m)\u001b[0m\u001b[1;33m\u001b[0m\u001b[1;33m\u001b[0m\u001b[0m\n\u001b[0;32m   3739\u001b[0m       \u001b[0mconverted_inputs\u001b[0m\u001b[1;33m.\u001b[0m\u001b[0mappend\u001b[0m\u001b[1;33m(\u001b[0m\u001b[0mvalue\u001b[0m\u001b[1;33m)\u001b[0m\u001b[1;33m\u001b[0m\u001b[1;33m\u001b[0m\u001b[0m\n\u001b[1;32m-> 3740\u001b[1;33m     \u001b[0moutputs\u001b[0m \u001b[1;33m=\u001b[0m \u001b[0mself\u001b[0m\u001b[1;33m.\u001b[0m\u001b[0m_graph_fn\u001b[0m\u001b[1;33m(\u001b[0m\u001b[1;33m*\u001b[0m\u001b[0mconverted_inputs\u001b[0m\u001b[1;33m)\u001b[0m\u001b[1;33m\u001b[0m\u001b[1;33m\u001b[0m\u001b[0m\n\u001b[0m\u001b[0;32m   3741\u001b[0m \u001b[1;33m\u001b[0m\u001b[0m\n\u001b[0;32m   3742\u001b[0m     \u001b[1;31m# EagerTensor.numpy() will often make a copy to ensure memory safety.\u001b[0m\u001b[1;33m\u001b[0m\u001b[1;33m\u001b[0m\u001b[1;33m\u001b[0m\u001b[0m\n",
      "\u001b[1;32md:\\programs\\python37\\lib\\site-packages\\tensorflow_core\\python\\eager\\function.py\u001b[0m in \u001b[0;36m__call__\u001b[1;34m(self, *args, **kwargs)\u001b[0m\n\u001b[0;32m   1079\u001b[0m       \u001b[0mTypeError\u001b[0m\u001b[1;33m:\u001b[0m \u001b[0mFor\u001b[0m \u001b[0minvalid\u001b[0m \u001b[0mpositional\u001b[0m\u001b[1;33m/\u001b[0m\u001b[0mkeyword\u001b[0m \u001b[0margument\u001b[0m \u001b[0mcombinations\u001b[0m\u001b[1;33m.\u001b[0m\u001b[1;33m\u001b[0m\u001b[1;33m\u001b[0m\u001b[0m\n\u001b[0;32m   1080\u001b[0m     \"\"\"\n\u001b[1;32m-> 1081\u001b[1;33m     \u001b[1;32mreturn\u001b[0m \u001b[0mself\u001b[0m\u001b[1;33m.\u001b[0m\u001b[0m_call_impl\u001b[0m\u001b[1;33m(\u001b[0m\u001b[0margs\u001b[0m\u001b[1;33m,\u001b[0m \u001b[0mkwargs\u001b[0m\u001b[1;33m)\u001b[0m\u001b[1;33m\u001b[0m\u001b[1;33m\u001b[0m\u001b[0m\n\u001b[0m\u001b[0;32m   1082\u001b[0m \u001b[1;33m\u001b[0m\u001b[0m\n\u001b[0;32m   1083\u001b[0m   \u001b[1;32mdef\u001b[0m \u001b[0m_call_impl\u001b[0m\u001b[1;33m(\u001b[0m\u001b[0mself\u001b[0m\u001b[1;33m,\u001b[0m \u001b[0margs\u001b[0m\u001b[1;33m,\u001b[0m \u001b[0mkwargs\u001b[0m\u001b[1;33m,\u001b[0m \u001b[0mcancellation_manager\u001b[0m\u001b[1;33m=\u001b[0m\u001b[1;32mNone\u001b[0m\u001b[1;33m)\u001b[0m\u001b[1;33m:\u001b[0m\u001b[1;33m\u001b[0m\u001b[1;33m\u001b[0m\u001b[0m\n",
      "\u001b[1;32md:\\programs\\python37\\lib\\site-packages\\tensorflow_core\\python\\eager\\function.py\u001b[0m in \u001b[0;36m_call_impl\u001b[1;34m(self, args, kwargs, cancellation_manager)\u001b[0m\n\u001b[0;32m   1119\u001b[0m       raise TypeError(\"Keyword arguments {} unknown. Expected {}.\".format(\n\u001b[0;32m   1120\u001b[0m           list(kwargs.keys()), list(self._arg_keywords)))\n\u001b[1;32m-> 1121\u001b[1;33m     \u001b[1;32mreturn\u001b[0m \u001b[0mself\u001b[0m\u001b[1;33m.\u001b[0m\u001b[0m_call_flat\u001b[0m\u001b[1;33m(\u001b[0m\u001b[0margs\u001b[0m\u001b[1;33m,\u001b[0m \u001b[0mself\u001b[0m\u001b[1;33m.\u001b[0m\u001b[0mcaptured_inputs\u001b[0m\u001b[1;33m,\u001b[0m \u001b[0mcancellation_manager\u001b[0m\u001b[1;33m)\u001b[0m\u001b[1;33m\u001b[0m\u001b[1;33m\u001b[0m\u001b[0m\n\u001b[0m\u001b[0;32m   1122\u001b[0m \u001b[1;33m\u001b[0m\u001b[0m\n\u001b[0;32m   1123\u001b[0m   \u001b[1;32mdef\u001b[0m \u001b[0m_filtered_call\u001b[0m\u001b[1;33m(\u001b[0m\u001b[0mself\u001b[0m\u001b[1;33m,\u001b[0m \u001b[0margs\u001b[0m\u001b[1;33m,\u001b[0m \u001b[0mkwargs\u001b[0m\u001b[1;33m)\u001b[0m\u001b[1;33m:\u001b[0m\u001b[1;33m\u001b[0m\u001b[1;33m\u001b[0m\u001b[0m\n",
      "\u001b[1;32md:\\programs\\python37\\lib\\site-packages\\tensorflow_core\\python\\eager\\function.py\u001b[0m in \u001b[0;36m_call_flat\u001b[1;34m(self, args, captured_inputs, cancellation_manager)\u001b[0m\n\u001b[0;32m   1222\u001b[0m     \u001b[1;32mif\u001b[0m \u001b[0mexecuting_eagerly\u001b[0m\u001b[1;33m:\u001b[0m\u001b[1;33m\u001b[0m\u001b[1;33m\u001b[0m\u001b[0m\n\u001b[0;32m   1223\u001b[0m       flat_outputs = forward_function.call(\n\u001b[1;32m-> 1224\u001b[1;33m           ctx, args, cancellation_manager=cancellation_manager)\n\u001b[0m\u001b[0;32m   1225\u001b[0m     \u001b[1;32melse\u001b[0m\u001b[1;33m:\u001b[0m\u001b[1;33m\u001b[0m\u001b[1;33m\u001b[0m\u001b[0m\n\u001b[0;32m   1226\u001b[0m       \u001b[0mgradient_name\u001b[0m \u001b[1;33m=\u001b[0m \u001b[0mself\u001b[0m\u001b[1;33m.\u001b[0m\u001b[0m_delayed_rewrite_functions\u001b[0m\u001b[1;33m.\u001b[0m\u001b[0mregister\u001b[0m\u001b[1;33m(\u001b[0m\u001b[1;33m)\u001b[0m\u001b[1;33m\u001b[0m\u001b[1;33m\u001b[0m\u001b[0m\n",
      "\u001b[1;32md:\\programs\\python37\\lib\\site-packages\\tensorflow_core\\python\\eager\\function.py\u001b[0m in \u001b[0;36mcall\u001b[1;34m(self, ctx, args, cancellation_manager)\u001b[0m\n\u001b[0;32m    509\u001b[0m               \u001b[0minputs\u001b[0m\u001b[1;33m=\u001b[0m\u001b[0margs\u001b[0m\u001b[1;33m,\u001b[0m\u001b[1;33m\u001b[0m\u001b[1;33m\u001b[0m\u001b[0m\n\u001b[0;32m    510\u001b[0m               \u001b[0mattrs\u001b[0m\u001b[1;33m=\u001b[0m\u001b[1;33m(\u001b[0m\u001b[1;34m\"executor_type\"\u001b[0m\u001b[1;33m,\u001b[0m \u001b[0mexecutor_type\u001b[0m\u001b[1;33m,\u001b[0m \u001b[1;34m\"config_proto\"\u001b[0m\u001b[1;33m,\u001b[0m \u001b[0mconfig\u001b[0m\u001b[1;33m)\u001b[0m\u001b[1;33m,\u001b[0m\u001b[1;33m\u001b[0m\u001b[1;33m\u001b[0m\u001b[0m\n\u001b[1;32m--> 511\u001b[1;33m               ctx=ctx)\n\u001b[0m\u001b[0;32m    512\u001b[0m         \u001b[1;32melse\u001b[0m\u001b[1;33m:\u001b[0m\u001b[1;33m\u001b[0m\u001b[1;33m\u001b[0m\u001b[0m\n\u001b[0;32m    513\u001b[0m           outputs = execute.execute_with_cancellation(\n",
      "\u001b[1;32md:\\programs\\python37\\lib\\site-packages\\tensorflow_core\\python\\eager\\execute.py\u001b[0m in \u001b[0;36mquick_execute\u001b[1;34m(op_name, num_outputs, inputs, attrs, ctx, name)\u001b[0m\n\u001b[0;32m     59\u001b[0m     tensors = pywrap_tensorflow.TFE_Py_Execute(ctx._handle, device_name,\n\u001b[0;32m     60\u001b[0m                                                \u001b[0mop_name\u001b[0m\u001b[1;33m,\u001b[0m \u001b[0minputs\u001b[0m\u001b[1;33m,\u001b[0m \u001b[0mattrs\u001b[0m\u001b[1;33m,\u001b[0m\u001b[1;33m\u001b[0m\u001b[1;33m\u001b[0m\u001b[0m\n\u001b[1;32m---> 61\u001b[1;33m                                                num_outputs)\n\u001b[0m\u001b[0;32m     62\u001b[0m   \u001b[1;32mexcept\u001b[0m \u001b[0mcore\u001b[0m\u001b[1;33m.\u001b[0m\u001b[0m_NotOkStatusException\u001b[0m \u001b[1;32mas\u001b[0m \u001b[0me\u001b[0m\u001b[1;33m:\u001b[0m\u001b[1;33m\u001b[0m\u001b[1;33m\u001b[0m\u001b[0m\n\u001b[0;32m     63\u001b[0m     \u001b[1;32mif\u001b[0m \u001b[0mname\u001b[0m \u001b[1;32mis\u001b[0m \u001b[1;32mnot\u001b[0m \u001b[1;32mNone\u001b[0m\u001b[1;33m:\u001b[0m\u001b[1;33m\u001b[0m\u001b[1;33m\u001b[0m\u001b[0m\n",
      "\u001b[1;31mKeyboardInterrupt\u001b[0m: "
     ]
    }
   ],
   "source": [
    "for folder in folders:\n",
    "    pathFile = path + slash + folder\n",
    "    exp2(pth=pathFile)"
   ]
  },
  {
   "cell_type": "code",
   "execution_count": null,
   "metadata": {},
   "outputs": [],
   "source": []
  }
 ],
 "metadata": {
  "kernelspec": {
   "display_name": "Python 3",
   "language": "python",
   "name": "python3"
  },
  "language_info": {
   "codemirror_mode": {
    "name": "ipython",
    "version": 3
   },
   "file_extension": ".py",
   "mimetype": "text/x-python",
   "name": "python",
   "nbconvert_exporter": "python",
   "pygments_lexer": "ipython3",
   "version": "3.7.4"
  }
 },
 "nbformat": 4,
 "nbformat_minor": 2
}
